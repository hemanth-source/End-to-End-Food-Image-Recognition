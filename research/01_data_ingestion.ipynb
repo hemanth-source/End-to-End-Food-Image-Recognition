{
 "cells": [
  {
   "cell_type": "code",
   "execution_count": 1,
   "id": "13d93bd4",
   "metadata": {},
   "outputs": [],
   "source": [
    "import os"
   ]
  },
  {
   "cell_type": "code",
   "execution_count": 2,
   "id": "26f979fe",
   "metadata": {},
   "outputs": [
    {
     "data": {
      "text/plain": [
       "'d:\\\\End-to-End-Food-Image-Recognition\\\\research'"
      ]
     },
     "execution_count": 2,
     "metadata": {},
     "output_type": "execute_result"
    }
   ],
   "source": [
    "%pwd"
   ]
  },
  {
   "cell_type": "code",
   "execution_count": 3,
   "id": "eb2f646a",
   "metadata": {},
   "outputs": [],
   "source": [
    "from dataclasses import dataclass\n",
    "from pathlib import Path\n",
    "\n",
    "@dataclass(frozen=True)\n",
    "class DataIngestionconfig:\n",
    "    root_dir:Path\n",
    "    source_URL:str\n",
    "    local_data_file:Path\n",
    "    unzip_dir: Path"
   ]
  },
  {
   "cell_type": "code",
   "execution_count": 4,
   "id": "e5f9f750",
   "metadata": {},
   "outputs": [],
   "source": [
    "from cvclassifier.constants import *  # noqa: F403\n",
    "from cvclassifier.utils.common import read_yaml ,create_directories  # noqa: F401\n"
   ]
  },
  {
   "cell_type": "code",
   "execution_count": 5,
   "id": "7790c416",
   "metadata": {},
   "outputs": [],
   "source": [
    "class ConfigurationManager:\n",
    "    def __init__(\n",
    "        self,\n",
    "        config_filepath=CONFIG_FILE_PATH,  # noqa: F405\n",
    "        params_filepath=PARAMS_FILE_PATH  # noqa: F405\n",
    "    ):\n",
    "        self.config = read_yaml(config_filepath)\n",
    "        self.params = read_yaml(params_filepath)\n",
    "\n",
    "        create_directories([self.config.artifacts_root])\n",
    "\n",
    "    def get_data_ingestion_config(self) -> DataIngestionconfig:\n",
    "        config = self.config.data_ingestion\n",
    "\n",
    "        create_directories([config.root_dir])\n",
    "\n",
    "        data_ingestion_config = DataIngestionconfig(\n",
    "            root_dir=config.root_dir,\n",
    "            source_URL=config.source_URL,\n",
    "            local_data_file=config.local_data_file,\n",
    "            unzip_dir=config.unzip_dir\n",
    "        )\n",
    "\n",
    "        return data_ingestion_config\n"
   ]
  },
  {
   "cell_type": "code",
   "execution_count": 6,
   "id": "ea21932b",
   "metadata": {},
   "outputs": [],
   "source": [
    "import os  # noqa: F401, F811\n",
    "import zipfile  # noqa: F401\n",
    "import gdown  # noqa: F401\n",
    "from cvclassifier import logger\n",
    "from cvclassifier.utils.common import get_size  # noqa: F401\n"
   ]
  },
  {
   "cell_type": "code",
   "execution_count": 9,
   "id": "7550b8b8",
   "metadata": {},
   "outputs": [],
   "source": [
    "import os\n",
    "import gdown\n",
    "import zipfile\n",
    "from cvclassifier import logger\n",
    "from cvclassifier.entity.config_entity import DataIngestionConfig\n",
    "\n",
    "class DataIngestion:\n",
    "    def __init__(self, config: DataIngestionConfig):\n",
    "        self.config = config\n",
    "\n",
    "    def download_file(self) -> str:\n",
    "        \"\"\"\n",
    "        Fetch data from the URL and download it as a zip file.\n",
    "        \"\"\"\n",
    "        try:\n",
    "            dataset_url = self.config.source_URL\n",
    "            zip_download_dir = self.config.local_data_file\n",
    "            os.makedirs(os.path.dirname(zip_download_dir), exist_ok=True)\n",
    "\n",
    "            logger.info(f\"Downloading data from {dataset_url} into file {zip_download_dir}\")\n",
    "\n",
    "            file_id = dataset_url.split(\"/\")[-2]  # Extract Google Drive file ID\n",
    "            prefix = 'https://drive.google.com/uc?export=download&id='\n",
    "            gdown.download(prefix + file_id, zip_download_dir, quiet=False, fuzzy=True)\n",
    "\n",
    "            logger.info(f\"Downloaded data from {dataset_url} into file {zip_download_dir}\")\n",
    "            return zip_download_dir\n",
    "\n",
    "        except Exception as e:\n",
    "            raise e\n",
    "\n",
    "    def extract_zip_file(self):\n",
    "        \"\"\"\n",
    "        Extracts the downloaded zip file into the specified directory.\n",
    "        \"\"\"\n",
    "        try:\n",
    "            unzip_path = self.config.unzip_dir\n",
    "            os.makedirs(unzip_path, exist_ok=True)\n",
    "\n",
    "            if not os.path.exists(self.config.local_data_file):\n",
    "                raise FileNotFoundError(f\"Zip file not found at {self.config.local_data_file}\")\n",
    "\n",
    "            logger.info(f\"Extracting {self.config.local_data_file} to {unzip_path}\")\n",
    "            with zipfile.ZipFile(self.config.local_data_file, 'r') as zip_ref:\n",
    "                zip_ref.extractall(unzip_path)\n",
    "            logger.info(f\"Extraction completed to {unzip_path}\")\n",
    "\n",
    "        except Exception as e:\n",
    "            raise e\n"
   ]
  },
  {
   "cell_type": "code",
   "execution_count": 10,
   "id": "3863889c",
   "metadata": {},
   "outputs": [
    {
     "name": "stdout",
     "output_type": "stream",
     "text": [
      "[2025-08-03 11:08:38,009: INFO: common: yaml file: D:\\End-to-End-Food-Image-Recognition\\config\\config.yaml loaded successfully]\n",
      "[2025-08-03 11:08:38,010: INFO: common: yaml file: D:\\End-to-End-Food-Image-Recognition\\params.yaml loaded successfully]\n",
      "[2025-08-03 11:08:38,011: INFO: common: created directory at: artifacts]\n",
      "[2025-08-03 11:08:38,012: INFO: common: created directory at: artifacts/data_ingestion]\n",
      "[2025-08-03 11:08:38,012: INFO: 3818088007: Downloading data from https://drive.google.com/file/d/1a-VlYWGvp5_P1v9GmbEaHsDmdGrPXMhE/view?usp=sharing into file artifacts/data_ingestion/data.zip]\n"
     ]
    },
    {
     "name": "stderr",
     "output_type": "stream",
     "text": [
      "Downloading...\n",
      "From (original): https://drive.google.com/uc?id=1a-VlYWGvp5_P1v9GmbEaHsDmdGrPXMhE\n",
      "From (redirected): https://drive.google.com/uc?id=1a-VlYWGvp5_P1v9GmbEaHsDmdGrPXMhE&confirm=t&uuid=63c9e520-8a07-4727-ab2a-10cb8ce482d0\n",
      "To: d:\\End-to-End-Food-Image-Recognition\\research\\artifacts\\data_ingestion\\data.zip\n",
      "100%|██████████| 5.01G/5.01G [03:23<00:00, 24.6MB/s]"
     ]
    },
    {
     "name": "stdout",
     "output_type": "stream",
     "text": [
      "[2025-08-03 11:12:04,786: INFO: 3818088007: Downloaded data from https://drive.google.com/file/d/1a-VlYWGvp5_P1v9GmbEaHsDmdGrPXMhE/view?usp=sharing into file artifacts/data_ingestion/data.zip]\n",
      "[2025-08-03 11:12:04,787: INFO: 3818088007: Extracting artifacts/data_ingestion/data.zip to artifacts/data_ingestion]\n"
     ]
    },
    {
     "name": "stderr",
     "output_type": "stream",
     "text": [
      "\n"
     ]
    },
    {
     "name": "stdout",
     "output_type": "stream",
     "text": [
      "[2025-08-03 11:13:01,144: INFO: 3818088007: Extraction completed to artifacts/data_ingestion]\n"
     ]
    }
   ],
   "source": [
    "try:\n",
    "    config = ConfigurationManager()\n",
    "    data_ingestion_config = config.get_data_ingestion_config()\n",
    "    data_ingestion = DataIngestion(config=data_ingestion_config)\n",
    "    data_ingestion.download_file()\n",
    "    data_ingestion.extract_zip_file()\n",
    "except Exception as e:\n",
    "    raise e"
   ]
  }
 ],
 "metadata": {
  "kernelspec": {
   "display_name": "Python 3",
   "language": "python",
   "name": "python3"
  },
  "language_info": {
   "codemirror_mode": {
    "name": "ipython",
    "version": 3
   },
   "file_extension": ".py",
   "mimetype": "text/x-python",
   "name": "python",
   "nbconvert_exporter": "python",
   "pygments_lexer": "ipython3",
   "version": "3.11.8"
  }
 },
 "nbformat": 4,
 "nbformat_minor": 5
}
